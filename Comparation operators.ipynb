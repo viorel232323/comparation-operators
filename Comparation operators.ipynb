{
 "cells": [
  {
   "cell_type": "code",
   "execution_count": null,
   "metadata": {},
   "outputs": [],
   "source": [
    "a = int(input(\"First number: \"))        \n",
    "operator = input(\"Insert operator: = , != , > , < \")     #input operator\n",
    "b = int(input(\"Second number: \"))\n",
    "#chack if a = b and operator is '='\n",
    "if operator == \"=\" and a == b:   \n",
    "    result = True\n",
    "    operator = \"=\"\n",
    "#chack if a != b and operator is '!='\n",
    "elif operator == \"!=\" and a != b:   \n",
    "    result = True\n",
    "    operator = \"!=\"\n",
    "#chack if a > b and operator is '>'\n",
    "elif operator == \">\" and a > b:   \n",
    "    result = True\n",
    "    operator = \">\"\n",
    "#chack if a < b and operator is '<'\n",
    "elif operator == \"<\" and a < b:   \n",
    "    result = True\n",
    "    operator = \"<\"\n",
    "else: \n",
    "    result = \"False\"\n",
    "    \n",
    "print(f\"{a} {operator} {b} -> {result}\")\n"
   ]
  }
 ],
 "metadata": {
  "language_info": {
   "name": "python"
  }
 },
 "nbformat": 4,
 "nbformat_minor": 2
}
